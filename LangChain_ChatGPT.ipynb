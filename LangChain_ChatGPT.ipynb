{
 "cells": [
  {
   "cell_type": "code",
   "execution_count": null,
   "id": "6c2d53cc-82df-4fcf-be7b-bdfa74dafe83",
   "metadata": {},
   "outputs": [],
   "source": [
    "# Using LangChain + ChatGPT to analyze data.\n",
    "\n",
    "%pip install langchain\n",
    "%pip install openai\n"
   ]
  },
  {
   "cell_type": "code",
   "execution_count": null,
   "id": "9211b61d-d3b6-4624-ac77-3beef1d579d6",
   "metadata": {
    "tags": []
   },
   "outputs": [],
   "source": [
    "from langchain.agents import create_pandas_dataframe_agent\n",
    "from langchain.llms import OpenAI\n",
    "import os\n",
    "import pandas as pd\n",
    "\n",
    "\n",
    "# Set the OpenAI API key\n",
    "os.environ[\"OPENAI_API_KEY\"] = \"your_api_key_here\"\n",
    "\n",
    "df = pd.read_csv('perfumes.csv', delimiter=';')\n",
    "df = df.fillna(0)\n",
    "\n",
    "df.info()\n",
    "df.head()"
   ]
  },
  {
   "cell_type": "markdown",
   "id": "e37d813b-dab9-422c-9efa-b724672b00ac",
   "metadata": {},
   "source": [
    "### Agent"
   ]
  },
  {
   "cell_type": "code",
   "execution_count": null,
   "id": "f26b6927-b5ab-42f5-b586-4796160efd70",
   "metadata": {},
   "outputs": [],
   "source": [
    "agent = create_pandas_dataframe_agent(OpenAI(temperature=0, model_name='text-davinci-003'), df, verbose=True) #text-davinci-003"
   ]
  },
  {
   "cell_type": "markdown",
   "id": "621d8804-3e45-4109-9dde-e61c8bcbfd63",
   "metadata": {},
   "source": [
    "### Query"
   ]
  },
  {
   "cell_type": "code",
   "execution_count": null,
   "id": "9f2a28fe-1c9f-41df-8c2d-e72060ffb944",
   "metadata": {},
   "outputs": [],
   "source": [
    "agent.run('tell me which product category had the most revenue, the value and best selling product in the category')"
   ]
  },
  {
   "cell_type": "code",
   "execution_count": null,
   "id": "73dc62c5-3d6a-424f-8445-3798e37ca3c8",
   "metadata": {},
   "outputs": [],
   "source": [
    "agent.run('calculate the total revenue for each category and save it in an excel file called \"revenue_summary.xlsx\" on my computer')"
   ]
  },
  {
   "cell_type": "code",
   "execution_count": null,
   "id": "4c1461dd",
   "metadata": {},
   "outputs": [],
   "source": [
    "agent.run('show a bar chart of revenue in millions by category for the top 8 categories')"
   ]
  },
  {
   "cell_type": "code",
   "execution_count": null,
   "id": "aab9c4bd-6c78-4d37-905c-b158fdfb7285",
   "metadata": {},
   "outputs": [],
   "source": [
    "query = \"\"\"\n",
    "Create a new Excel file called \"analise_perfumes.xlsx\" and add a separator called \"revenue_by_year_month\". \n",
     "Then read the added dataframe that contains product recipe information. \n",
     "In the tab \"revenue_by_year_month\", add the columns \"Year\", \"Month of the year\" and \"Product Revenue\" for each \"Month of The Year\" \n ",
     "Finally, save the Excel file as \"analise_perfumes.xlsx\" on my computer.\n",
     "\"\"\"\n",
    "agent.run(query)"
   ]
  },
  {
   "cell_type": "code",
   "execution_count": null,
   "id": "63579ed4",
   "metadata": {},
   "outputs": [],
   "source": [
    "agent.run('show a chart with revenue by year-month')"
   ]
  }
 ],
 "metadata": {
  "kernelspec": {
   "display_name": "base",
   "language": "python",
   "name": "python3"
  },
  "language_info": {
   "codemirror_mode": {
    "name": "ipython",
    "version": 3
   },
   "file_extension": ".py",
   "mimetype": "text/x-python",
   "name": "python",
   "nbconvert_exporter": "python",
   "pygments_lexer": "ipython3",
   "version": "3.9.7"
  },
  "vscode": {
   "interpreter": {
    "hash": "08257972d207e29b723ed1b102c9578b0010f8898965c44183eea9cd8f2679f1"
   }
  }
 },
 "nbformat": 4,
 "nbformat_minor": 5
}
