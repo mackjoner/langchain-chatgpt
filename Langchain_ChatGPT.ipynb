{
 "cells": [
  {
   "cell_type": "code",
   "execution_count": null,
   "id": "6c2d53cc-82df-4fcf-be7b-bdfa74dafe83",
   "metadata": {},
   "outputs": [],
   "source": [
    "# Utilizando LangChain + ChatGPT para análisar dados.\n"
   ]
  },
  {
   "cell_type": "code",
   "execution_count": null,
   "id": "9211b61d-d3b6-4624-ac77-3beef1d579d6",
   "metadata": {
    "tags": []
   },
   "outputs": [],
   "source": [
    "from langchain.agents import create_pandas_dataframe_agent\n",
    "from langchain.llms import OpenAI\n",
    "import os\n",
    "import pandas as pd\n",
    "import dotenv\n",
    "\n",
    "dotenv.load_dotenv() # load .env file into environment variables\n",
    "api_key = os.getenv('OPENAI_API_KEY') # get API key from environment variable\n",
    "\n",
    "df = pd.read_csv('perfumes.csv', delimiter=';')\n",
    "df = df.fillna(0)\n",
    "\n",
    "df.info()\n",
    "df.head()"
   ]
  },
  {
   "cell_type": "markdown",
   "id": "e37d813b-dab9-422c-9efa-b724672b00ac",
   "metadata": {},
   "source": [
    "### Agent"
   ]
  },
  {
   "cell_type": "code",
   "execution_count": null,
   "id": "f26b6927-b5ab-42f5-b586-4796160efd70",
   "metadata": {},
   "outputs": [],
   "source": [
    "agent = create_pandas_dataframe_agent(OpenAI(temperature=0, model_name='text-davinci-003'), df, verbose=True) #text-davinci-003"
   ]
  },
  {
   "cell_type": "markdown",
   "id": "621d8804-3e45-4109-9dde-e61c8bcbfd63",
   "metadata": {},
   "source": [
    "### Query"
   ]
  },
  {
   "cell_type": "code",
   "execution_count": null,
   "id": "9f2a28fe-1c9f-41df-8c2d-e72060ffb944",
   "metadata": {},
   "outputs": [],
   "source": [
    "agent.run('diga-me qual categoria de produto teve maior receita, o valor e o produto mais vendido da categoria')"
   ]
  },
  {
   "cell_type": "code",
   "execution_count": null,
   "id": "73dc62c5-3d6a-424f-8445-3798e37ca3c8",
   "metadata": {},
   "outputs": [],
   "source": [
    "agent.run('calcule a receita total de cada categoria e salve em um ficheiro excel chamado \"revenue_summary.xlsx\" no meu computador')"
   ]
  },
  {
   "cell_type": "code",
   "execution_count": null,
   "id": "4c1461dd",
   "metadata": {},
   "outputs": [],
   "source": [
    "agent.run('mostre um gráfico de barras com a receita em milhões por categoria das 8 maiores categorias')"
   ]
  },
  {
   "cell_type": "code",
   "execution_count": null,
   "id": "aab9c4bd-6c78-4d37-905c-b158fdfb7285",
   "metadata": {},
   "outputs": [],
   "source": [
    "query = \"\"\"\n",
    "Crie um novo arquivo Excel chamado \"analise_perfumes.xlsx\" e adicione um separador chamado \"revenue_by_year_month\". \n",
    "Em seguida, leia o dataframe adicionado que contém informações de receita de produtos. \n",
    "No separador \"revenue_by_year_month\", agregue as colunas \"Year\", \"Month of the year\" e \"Product Revenue\" para cada \"Month of The Year\" (Mês do Ano) \n",
    "Por fim, salve o arquivo Excel como \"analise_perfumes.xlsx\" no meu computador.\n",
    "\"\"\"\n",
    "agent.run(query)"
   ]
  },
  {
   "cell_type": "code",
   "execution_count": null,
   "id": "63579ed4",
   "metadata": {},
   "outputs": [],
   "source": [
    "agent.run('mostre um gráfico com a receita por ano-mês')"
   ]
  }
 ],
 "metadata": {
  "kernelspec": {
   "display_name": "base",
   "language": "python",
   "name": "python3"
  },
  "language_info": {
   "codemirror_mode": {
    "name": "ipython",
    "version": 3
   },
   "file_extension": ".py",
   "mimetype": "text/x-python",
   "name": "python",
   "nbconvert_exporter": "python",
   "pygments_lexer": "ipython3",
   "version": "3.9.16"
  }
 },
 "nbformat": 4,
 "nbformat_minor": 5
}
